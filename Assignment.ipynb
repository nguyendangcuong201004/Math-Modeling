{
 "cells": [
  {
   "cell_type": "markdown",
   "id": "d3f83fdb",
   "metadata": {},
   "source": [
    "#                                   Industry- Manufacturing"
   ]
  },
  {
   "cell_type": "markdown",
   "id": "5c6d1e73",
   "metadata": {},
   "source": [
    "###  Importing Modules"
   ]
  },
  {
   "cell_type": "code",
   "execution_count": 273,
   "id": "01220f69",
   "metadata": {},
   "outputs": [],
   "source": [
    "from gamspy import Container, Set, Variable, Parameter, Model, Product, Sum, Sense, Equation\n",
    "import numpy as np\n",
    "import pandas as pd"
   ]
  },
  {
   "cell_type": "markdown",
   "id": "9344b60d",
   "metadata": {},
   "source": [
    "### Data"
   ]
  },
  {
   "cell_type": "code",
   "execution_count": 274,
   "id": "b235ed3a",
   "metadata": {},
   "outputs": [],
   "source": [
    "m = Container ()\n",
    "# Set\n",
    "Products = Set(m, \"Products\", records = [\"Product 1\", \"Product 2\", \"Product 3\", \"Product 4\", \"Product 5\", \"Product 6\",\n",
    "                                        \"Product 7\", \"Product 8\"])\n",
    "Sites = Set(m, \"Sites\", records = [\"Sites 1\", \"Sites 2\", \"Sites 3\", \"Sites 4\", \"Sites 5\"])\n",
    "# Parameter\n",
    "\n",
    "A = Parameter(\n",
    "    container = m,\n",
    "    name = \"A\",\n",
    "    domain = [Products, Sites],\n",
    "    records = np.array([[1, 7, 1, 0, 6], [2, 3, 5, 2, 1], [4, 1, 4, 5, 1], [1, 5, 3, 1, 5], [2, 1, 2, 1, 0], \n",
    "                       [1, 4, 5, 5, 4], [3, 6, 2, 1, 2], [6, 2, 5, 1, 8]])\n",
    ")\n",
    "\n",
    "b = Parameter(\n",
    "    container = m,\n",
    "    name = \"b\",\n",
    "    domain = Sites,\n",
    "    records = np.array([2, 4, 3, 2, 2])\n",
    ")\n",
    "\n",
    "s = Parameter(\n",
    "    container = m,\n",
    "    name = \"s\",\n",
    "    domain = Sites,\n",
    "    records = np.array([1, 1, 1, 2, 1])\n",
    ")\n",
    "\n",
    "l = Parameter(\n",
    "    container = m,\n",
    "    name = \"l\",\n",
    "    domain = Products,\n",
    "    records = np.array([20, 10, 30, 40, 50, 20, 20, 10])\n",
    ")\n",
    "\n",
    "q = Parameter(\n",
    "    container = m,\n",
    "    name = \"q\",\n",
    "    domain = Products,\n",
    "    records = np.array([50, 20, 115, 65, 115, 65, 30, 60])\n",
    ")\n",
    "\n",
    "d1 = Parameter(\n",
    "    container = m,\n",
    "    name = \"d1\",\n",
    "    domain = Products,\n",
    "    records = np.array([9, 8, 6, 4, 10, 4, 3, 2])\n",
    ")\n",
    "\n",
    "d2 = Parameter(\n",
    "    container = m,\n",
    "    name = \"d2\",\n",
    "    domain = Products,\n",
    "    records = np.array([5, 4, 7, 5, 6, 3, 8, 7])\n",
    ")\n",
    "\n",
    "x = Variable(\n",
    "    container = m,\n",
    "    name = \"x\",\n",
    "    domain = Sites,\n",
    "    type = \"Positive\"\n",
    ")\n",
    "\n",
    "y1 = Variable(\n",
    "    container = m,\n",
    "    name = \"y1\",\n",
    "    domain = Sites,\n",
    "    type = \"Positive\"\n",
    ")\n",
    "\n",
    "y2 = Variable(\n",
    "    container = m,\n",
    "    name = \"y2\",\n",
    "    domain = Sites,\n",
    "    type = \"Positive\"\n",
    ")\n",
    "\n",
    "z1 = Variable(\n",
    "    container = m,\n",
    "    name = \"z1\",\n",
    "    domain = Products,\n",
    "    type = \"Positive\"\n",
    ")\n",
    "\n",
    "z2 = Variable(\n",
    "    container = m,\n",
    "    name = \"z1\",\n",
    "    domain = Products,\n",
    "    type = \"Positive\"\n",
    ")"
   ]
  },
  {
   "cell_type": "markdown",
   "id": "8b7d4b3a",
   "metadata": {},
   "source": [
    "### Objective Function"
   ]
  },
  {
   "cell_type": "code",
   "execution_count": 275,
   "id": "dd086b86",
   "metadata": {},
   "outputs": [],
   "source": [
    "objFuntion = Sum([Sites], b[Sites] * x[Sites]) + 0.5 * (Sum([Products], (l[Products] - q[Products]) * z1[Products]) - Sum([Sites], s[Sites] * y1[Sites])) + 0.5 *(Sum([Products], (l[Products] - q[Products]) * z2[Products]) - Sum([Sites], s[Sites] * y2[Sites]))"
   ]
  },
  {
   "cell_type": "markdown",
   "id": "e837ae05",
   "metadata": {},
   "source": [
    "### Subject to "
   ]
  },
  {
   "cell_type": "code",
   "execution_count": 276,
   "id": "eb986354",
   "metadata": {},
   "outputs": [],
   "source": [
    "def1 = Equation(container = m, name = \"def1\", domain = [Products])\n",
    "def1[Products] = z1[Products] >= 0\n",
    "\n",
    "def2 = Equation(container = m, name = \"def2\", domain = [Products])\n",
    "def2[Products] = z2[Products] >= 0\n",
    "\n",
    "def3 = Equation(container = m, name = \"def3\", domain = [Products])\n",
    "def3[Products] = z1[Products] <= d1[Products]\n",
    "\n",
    "def4 = Equation(container = m, name = \"def4\", domain = [Products])\n",
    "def4[Products] = z2[Products] <= d2[Products]\n",
    "\n",
    "def5 = Equation(container = m, name = \"def5\", domain = [Sites])\n",
    "def5[Sites] = y1[Sites] >= 0\n",
    "\n",
    "def6 = Equation(container = m, name = \"def6\", domain = [Sites])\n",
    "def6[Sites] = y2[Sites] >= 0\n",
    "\n",
    "def7 = Equation(container = m, name = \"def7\", domain = [Sites])\n",
    "def7[Sites] = y1[Sites] == (x[Sites] - Sum([Products], A[Products, Sites] * z1[Products]))\n",
    "\n",
    "def8 = Equation(container = m, name = \"def8\", domain = [Sites])\n",
    "def8[Sites] = y2[Sites] == (x[Sites] - Sum([Products] ,A[Products, Sites] * z2[Products]))\n",
    "\n",
    "def9 = Equation(container = m, name = \"def9\", domain = [Sites])\n",
    "def9[Sites] = x[Sites] >= 0\n"
   ]
  },
  {
   "cell_type": "markdown",
   "id": "9cd646d2",
   "metadata": {},
   "source": [
    "### Model"
   ]
  },
  {
   "cell_type": "code",
   "execution_count": 277,
   "id": "b9aedc54",
   "metadata": {},
   "outputs": [],
   "source": [
    "result = Model (\n",
    "    container = m,\n",
    "    name = \"result\",\n",
    "    equations = m.getEquations(),\n",
    "    problem = \"LP\",\n",
    "    sense = Sense.MIN,\n",
    "    objective = objFuntion\n",
    ")"
   ]
  },
  {
   "cell_type": "markdown",
   "id": "81e97524",
   "metadata": {},
   "source": [
    "### Solve"
   ]
  },
  {
   "cell_type": "code",
   "execution_count": 278,
   "id": "a70c3446",
   "metadata": {},
   "outputs": [],
   "source": [
    "result.solve()"
   ]
  },
  {
   "cell_type": "code",
   "execution_count": 279,
   "id": "93bbdf77",
   "metadata": {},
   "outputs": [
    {
     "name": "stdout",
     "output_type": "stream",
     "text": [
      "-588.0\n"
     ]
    }
   ],
   "source": [
    "print(result.objective_value)"
   ]
  },
  {
   "cell_type": "code",
   "execution_count": 280,
   "id": "73026f35",
   "metadata": {},
   "outputs": [
    {
     "name": "stdout",
     "output_type": "stream",
     "text": [
      "     Sites  level  marginal  lower  upper  scale\n",
      "0  Sites 1   36.0       0.0    0.0    inf    1.0\n",
      "1  Sites 2   12.0       0.0    0.0    inf    1.0\n",
      "2  Sites 3   36.0       0.0    0.0    inf    1.0\n",
      "3  Sites 4   36.0       0.0    0.0    inf    1.0\n",
      "4  Sites 5    6.0       0.0    0.0    inf    1.0\n"
     ]
    }
   ],
   "source": [
    "print(x.records)"
   ]
  },
  {
   "cell_type": "code",
   "execution_count": 281,
   "id": "dd546d52",
   "metadata": {},
   "outputs": [
    {
     "name": "stdout",
     "output_type": "stream",
     "text": [
      "     Sites  level  marginal  lower  upper  scale\n",
      "0  Sites 1    0.0       1.0    0.0    inf    1.0\n",
      "1  Sites 2    0.0       3.0    0.0    inf    1.0\n",
      "2  Sites 3    0.0       2.0    0.0    inf    1.0\n",
      "3  Sites 4    0.0      -0.0    0.0    inf    1.0\n",
      "4  Sites 5    0.0       1.0    0.0    inf    1.0\n"
     ]
    }
   ],
   "source": [
    "print(y1.records)"
   ]
  },
  {
   "cell_type": "code",
   "execution_count": 282,
   "id": "a9a309ce",
   "metadata": {},
   "outputs": [
    {
     "name": "stdout",
     "output_type": "stream",
     "text": [
      "     Sites  level  marginal  lower  upper  scale\n",
      "0  Sites 1    0.0       0.0    0.0    inf    1.0\n",
      "1  Sites 2    0.0       0.0    0.0    inf    1.0\n",
      "2  Sites 3    0.0       0.0    0.0    inf    1.0\n",
      "3  Sites 4    0.0       0.0    0.0    inf    1.0\n",
      "4  Sites 5    0.0       0.0    0.0    inf    1.0\n"
     ]
    }
   ],
   "source": [
    "print(y2.records)"
   ]
  },
  {
   "cell_type": "code",
   "execution_count": 283,
   "id": "2ab0422c",
   "metadata": {},
   "outputs": [
    {
     "name": "stdout",
     "output_type": "stream",
     "text": [
      "    Products  level  marginal  lower  upper  scale\n",
      "0  Product 1    0.0      15.0    0.0    inf    1.0\n",
      "1  Product 2    0.0      27.0    0.0    inf    1.0\n",
      "2  Product 3    6.0       0.0    0.0    inf    1.0\n",
      "3  Product 4    0.0      18.0    0.0    inf    1.0\n",
      "4  Product 5    6.0       0.0    0.0    inf    1.0\n",
      "5  Product 6    0.0       6.0    0.0    inf    1.0\n",
      "6  Product 7    0.0      32.0    0.0    inf    1.0\n",
      "7  Product 8    0.0       3.0    0.0    inf    1.0\n"
     ]
    }
   ],
   "source": [
    "print(z1.records)"
   ]
  },
  {
   "cell_type": "code",
   "execution_count": 272,
   "id": "867c8e86",
   "metadata": {},
   "outputs": [
    {
     "name": "stdout",
     "output_type": "stream",
     "text": [
      "    Products  level  marginal  lower  upper  scale\n",
      "0  Product 1    0.0      15.0    0.0    inf    1.0\n",
      "1  Product 2    0.0      27.0    0.0    inf    1.0\n",
      "2  Product 3    6.0       0.0    0.0    inf    1.0\n",
      "3  Product 4    0.0      18.0    0.0    inf    1.0\n",
      "4  Product 5    6.0       0.0    0.0    inf    1.0\n",
      "5  Product 6    0.0       6.0    0.0    inf    1.0\n",
      "6  Product 7    0.0      32.0    0.0    inf    1.0\n",
      "7  Product 8    0.0       3.0    0.0    inf    1.0\n"
     ]
    }
   ],
   "source": [
    "print(z2.records)"
   ]
  },
  {
   "cell_type": "code",
   "execution_count": null,
   "id": "f07f3a4e",
   "metadata": {},
   "outputs": [],
   "source": []
  },
  {
   "cell_type": "code",
   "execution_count": null,
   "id": "b94a497a",
   "metadata": {},
   "outputs": [],
   "source": []
  },
  {
   "cell_type": "code",
   "execution_count": null,
   "id": "b41f8bff",
   "metadata": {},
   "outputs": [],
   "source": []
  }
 ],
 "metadata": {
  "kernelspec": {
   "display_name": "Python 3 (ipykernel)",
   "language": "python",
   "name": "python3"
  },
  "language_info": {
   "codemirror_mode": {
    "name": "ipython",
    "version": 3
   },
   "file_extension": ".py",
   "mimetype": "text/x-python",
   "name": "python",
   "nbconvert_exporter": "python",
   "pygments_lexer": "ipython3",
   "version": "3.11.5"
  }
 },
 "nbformat": 4,
 "nbformat_minor": 5
}
